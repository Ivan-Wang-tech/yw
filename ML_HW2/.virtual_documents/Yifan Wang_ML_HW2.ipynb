import pandas as pd
import numpy as np
import matplotlib.pyplot as plt
import math
%matplotlib inline


# create dataset
dataset_size = 30
x = np.random.uniform(0, 1, dataset_size)
N = np.random.normal(loc=2., scale=3., size=dataset_size)
y = np.sin(2*np.pi*x)+(0.05 * N)


def split_dataset(n, test_percent):
    n_test = int(n*test_percent)
    idxs = np.random.permutation(n)
    return idxs[n_test:], idxs[:n_test]

train_set, test_set = split_dataset(len(x), 0.2)
train_x, train_y = [], []
test_x, test_y = [], []
for i in train_set:
    train_x.append(x[i])
    train_y.append(y[i])

for i in test_set:
    test_x.append(x[i])
    test_y.append(y[i])

# print(test_x)
# print(test_y)
# print(train_x)
# print(train_y)


# visualization of train and test data
plt.scatter(train_x, train_y)
plt.scatter(test_x, test_y, color="orange")


# Provide your solution below
from sklearn.metrics import mean_squared_error
from sklearn.preprocessing import PolynomialFeatures
from sklearn.linear_model import LinearRegression
from sklearn.linear_model import Lasso, Ridge

train_x = np.array(train_x)  
train_y = np.array(train_y)  
test_x = np.array(test_x)    
test_y = np.array(test_y)    

# reshaped_x = train_x.reshape(-1, 1)  
# test_x = test_x.reshape(-1, 1) 

# print(train_x)
# print(train_y)

reshaped_x = train_x[:, np.newaxis]
reshaped_y = train_y[:, np.newaxis]
test_x = test_x[:, np.newaxis]
test_y = test_y[:, np.newaxis]

# print(train_x)
# print(train_y)

train_x = sorted(reshaped_x)
train_y = [y for _, y in sorted(zip(reshaped_x, reshaped_y), key=lambda pair: pair[0])]

mse_test=[]
mse_train=[]

degrees=[0,1,6,8,12,14,16]

for i in degrees:
    poly= PolynomialFeatures(degree=i, include_bias=True)
    polyfeatures= poly.fit_transform(train_x)
    polyfeaturestest= poly.fit_transform(test_x)
    poly_regmodel= LinearRegression()

    poly_regmodel.fit(polyfeatures, train_y)

    y_predict= poly_regmodel.predict(polyfeatures)
    y_predicttest= poly_regmodel.predict(polyfeaturestest)

    mse_tr= mean_squared_error(train_y, y_predict)
    mse_te= mean_squared_error(test_y, y_predicttest)

    mse_train.append(mse_tr)
    mse_test.append(mse_te)

    plt.scatter(train_x,train_y,color='orange')
    plt.scatter(test_x,test_y,color='green')
    plt.plot(train_x, y_predict, color="blue")
    plt.title(f'Polynomial Regression in degree {i}')
    plt.show()

# print(mse_train)
# print(mse_test)
plt.plot(degrees, mse_train, color='blue')
plt.plot(degrees, mse_test, color='yellow')
plt.title(f"MSE for Train and Test dataset with degrees {0, 1, 6, 8, 12, 14, 16} respectively")
plt.xticks(degrees)
plt.ylim([0,5])






