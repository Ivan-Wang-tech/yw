import pandas as pd
df=pd.read_csv('./dataset.csv')
df.head(21)


df['x']


df['y']


import matplotlib.pyplot as plt
axs=df.plot.scatter(x='x',y='y')


#Method 1: use Python library to perform linear regression

import numpy as np
from sklearn.linear_model import LinearRegression
x=df['x'].values.reshape(-1,1)
y=df['y'].values
print(x)
print(y)


model=LinearRegression()
model.fit(x,y)
slope=model.coef_[0]
intercept=model.intercept_
print("Slope: ",slope)
print("Intercept: ",intercept)
data=10
prediction=model.predict([[data]])[0]
print("Predicted value: ", prediction)


plt.scatter(x,y)
z=np.linspace(0,20,100).reshape(-1,1)
plt.plot(z,model.predict(z),color='red')
plt.xlabel("time(s)")
plt.ylabel("mass(g)")
plt.xlim(left=0)
plt.ylim(bottom=0)
plt.title("Scatter Plot with Regression Line")


#Method 2: use PyTorch to perform linear regression

import torch
datatensor=torch.tensor(df.values[:,:].astype(float))
#datatensor = torch.nn.functional.normalize(datatensor)
print(datatensor)


import torch
class LinearRegression(torch.nn.Module):
    def __init__(self,inputSize,outputSize):
        super(LinearRegression,self).__init__()
        self.linear=torch.nn.Linear(inputSize,outputSize)

    def forward(self,x):
        y=self.linear(x)
        return y


loss=torch.nn.MSELoss()
vinput=datatensor[:,0].unsqueeze(1)
voutput=datatensor[:,1].unsqueeze(1)
print(vinput.shape)
print(voutput.shape)


from torch.utils.data import Dataset, DataLoader

class Chemical(Dataset):
    def __init__(self,vinput,voutput):
        self.n_samples = vinput.shape[0]
        self.x_data = vinput
        self.y_data = voutput

    def __getitem__ (self,index):
        return self.x_data[index], self.y_data[index]

    def __len__(self):
        return self.n_samples

trainingData=Chemical(vinput,voutput)


type(trainingData)
print (vinput)
print (voutput)


import matplotlib.pyplot as plt
def train(learning_rate, steps, batch_size):
    model = LinearRegression(inputSize=1, outputSize=1)
    optimizer = torch.optim.SGD(model.parameters(), lr=learning_rate)

    loader = DataLoader(dataset=trainingData, batch_size=batch_size, shuffle=True)

    losses = []; 

    for i in range(50000):
        step=0
        for input, target in loader:
            #plt.plot(input, target)
            optimizer.zero_grad() 
            model.double()
            output = model(input) 
            err = loss(output, target) 
            losses.append(err) 
            err.backward()
            optimizer.step()

            print('step {}, loss {}'.format(step, err.item()))
    
            #a = model.linear.weight.item()  
            #b = model.linear.bias.item()     
            #print("Final weight:", a)
            #print("Final bias:", b)
    
            step += 1
            print(len(losses), steps, step)
    
            if step >= steps:
                break
    return model, losses

learning_rate = 0.0001
steps =  20
batch_size = 20
model, losses = train(learning_rate, steps, batch_size)


'''
model/tensor: learnable parameters, like theta, theta.requires_grad=True
input: x, requires_grad = False
label: y, requires_grad = False
loss: model(x): output, MSE(output, label)
optimizer: SGD(lr=lr, params = model.parameters())

while True:
    1. optimizer.zero_grad()
    2. loss = MSE(model(input), label)
    3. loss.backward(), after this, theta has grad
    3.5. another_loss.backward()
    4. optimizer.step(), after this, theta is updated
''' 


'''
import torch
a = torch.FloatTensor([[2,3,4]])
'''


a * 2 - 1


a = model.linear.weight.item() 
b = model.linear.bias.item()    

print("Final slope:", a)
print("Final bias:",b)

predictions = model(vinput.double())
tensor_double = torch.tensor([[10]], dtype=torch.double)
predicted_value = model(tensor_double).item()
print("Predicted value of y at x = 10 is:",predicted_value)
plt.scatter(vinput.detach().numpy(), voutput.detach().numpy(), color='blue', label='Original Data') 
plt.plot(vinput.detach().numpy(), predictions.detach().numpy(), color='red', label='Regression Line') 
plt.xlabel("time(s)")
plt.ylabel("mass(g)")
plt.title("Scatter Plot with Regression Line for a Dataset of a Chemical")



