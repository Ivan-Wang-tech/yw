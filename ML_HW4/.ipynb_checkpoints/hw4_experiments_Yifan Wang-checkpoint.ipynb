{
 "cells": [
  {
   "cell_type": "code",
   "execution_count": 4,
   "id": "1feb2725-2503-48c4-b9ec-732e89597720",
   "metadata": {
    "id": "1feb2725-2503-48c4-b9ec-732e89597720"
   },
   "outputs": [],
   "source": [
    "import numpy as np\n",
    "import torch\n",
    "import matplotlib.pyplot as plt\n",
    "from tqdm import tqdm"
   ]
  },
  {
   "cell_type": "code",
   "execution_count": 5,
   "id": "e9186bf8-5847-40f1-8c4f-2c2e81e44bc2",
   "metadata": {
    "id": "e9186bf8-5847-40f1-8c4f-2c2e81e44bc2"
   },
   "outputs": [],
   "source": [
    "def train(lr = 0.1, steps = 15):\n",
    "    model = torch.nn.Linear(4, 1, bias=False)\n",
    "\n",
    "    # fix the initialization for reproducing results, do not change. In practice, we use random initialization\n",
    "    model.weight.data = torch.FloatTensor([[ 2.0871, -1.3213,  0.7339, -1.0858]])\n",
    "\n",
    "    optimizer = torch.optim.SGD(model.parameters(), lr=lr)\n",
    "    loss_func = torch.nn.functional.mse_loss\n",
    "\n",
    "    train_loss_list = []\n",
    "\n",
    "    model.train()\n",
    "\n",
    "    for _ in tqdm(range(steps)):\n",
    "        pred = model(X_train)\n",
    "\n",
    "        # reduction='sum' is for consistent computation for linear regression. In practice, we often use reduction='mean'\n",
    "        loss = 0.5 * loss_func(pred, y_train, reduction='sum')\n",
    "\n",
    "        optimizer.zero_grad()\n",
    "        loss.backward()\n",
    "        optimizer.step()\n",
    "\n",
    "        train_loss_list.append(loss.detach().item())\n",
    "\n",
    "    return train_loss_list"
   ]
  },
  {
   "cell_type": "code",
   "execution_count": null,
   "id": "53a5a37f-034e-43a6-8255-2758abb593e8",
   "metadata": {
    "id": "53a5a37f-034e-43a6-8255-2758abb593e8"
   },
   "outputs": [],
   "source": []
  },
  {
   "cell_type": "code",
   "execution_count": null,
   "id": "dca9334a-1040-4a1b-acab-e38ba73f48b7",
   "metadata": {
    "id": "dca9334a-1040-4a1b-acab-e38ba73f48b7"
   },
   "outputs": [],
   "source": []
  },
  {
   "cell_type": "markdown",
   "id": "2078e0fc-d105-41fa-a36a-e2d2e941c3f8",
   "metadata": {
    "id": "2078e0fc-d105-41fa-a36a-e2d2e941c3f8"
   },
   "source": [
    "# Dataset 0"
   ]
  },
  {
   "cell_type": "code",
   "execution_count": 13,
   "id": "5c448bce-4a49-44dc-9224-23ede6448ad9",
   "metadata": {
    "id": "5c448bce-4a49-44dc-9224-23ede6448ad9"
   },
   "outputs": [
    {
     "name": "stdout",
     "output_type": "stream",
     "text": [
      "[[-0.01158594 -0.02965344 -0.00998578 -0.00323924]\n",
      " [-0.03058894 -0.00166593  0.00055359 -0.0115623 ]\n",
      " [-0.00927324 -0.05023131 -0.00566011  0.01785314]\n",
      " ...\n",
      " [ 0.04416084  0.01514264  0.0103846   0.02545683]\n",
      " [ 0.04173477  0.00609477  0.02049776 -0.02186406]\n",
      " [-0.01621537  0.00668636 -0.00482296  0.03221954]]\n",
      "[[ 1.0000000e+00 -6.0535967e-09 -5.1222742e-09 -1.8626451e-09]\n",
      " [-6.0535967e-09  7.9999995e-01 -1.3969839e-09  0.0000000e+00]\n",
      " [-5.1222742e-09 -1.3969839e-09  6.0000014e-01  1.3969839e-09]\n",
      " [-1.8626451e-09  0.0000000e+00  1.3969839e-09  5.0000012e-01]]\n",
      "Largest:1.0， Smallest:0.5000001192092896\n"
     ]
    }
   ],
   "source": [
    "# load the data\n",
    "X_train = np.load('X_train_0.npy')\n",
    "y_train = np.load('y_train_0.npy')\n",
    "\n",
    "print(X_train)\n",
    "\n",
    "X_train = torch.FloatTensor(X_train)\n",
    "y_train = torch.FloatTensor(y_train).unsqueeze(1)\n",
    "\n",
    "X_transpose_X = np.dot(X_train.T, X_train)\n",
    "print(X_transpose_X)\n",
    "eigenvalues =  np.linalg.eigvals(X_transpose_X)\n",
    "largest_eigenvalue = np.max(eigenvalues)\n",
    "smallest_eigenvalue = np.min(eigenvalues)\n",
    "print(f'Largest:{largest_eigenvalue}， Smallest:{smallest_eigenvalue}')"
   ]
  },
  {
   "cell_type": "code",
   "execution_count": 15,
   "id": "7d003117-104e-46ac-80ea-4d18f3e90d5f",
   "metadata": {
    "id": "7d003117-104e-46ac-80ea-4d18f3e90d5f"
   },
   "outputs": [
    {
     "name": "stderr",
     "output_type": "stream",
     "text": [
      "100%|██████████| 15/15 [00:00<00:00, 103.04it/s]\n"
     ]
    },
    {
     "name": "stdout",
     "output_type": "stream",
     "text": [
      "0.502079427242279\n"
     ]
    },
    {
     "name": "stderr",
     "output_type": "stream",
     "text": [
      "100%|██████████| 15/15 [00:00<00:00, 8934.19it/s]\n"
     ]
    },
    {
     "name": "stdout",
     "output_type": "stream",
     "text": [
      "0.07500031590461731\n"
     ]
    },
    {
     "name": "stderr",
     "output_type": "stream",
     "text": [
      "100%|██████████| 15/15 [00:00<00:00, 7927.74it/s]\n"
     ]
    },
    {
     "name": "stdout",
     "output_type": "stream",
     "text": [
      "0.012587964534759521\n"
     ]
    },
    {
     "name": "stderr",
     "output_type": "stream",
     "text": [
      "100%|██████████| 15/15 [00:00<00:00, 7485.37it/s]\n"
     ]
    },
    {
     "name": "stdout",
     "output_type": "stream",
     "text": [
      "0.002157970331609249\n"
     ]
    },
    {
     "name": "stderr",
     "output_type": "stream",
     "text": [
      "100%|██████████| 15/15 [00:00<00:00, 8751.50it/s]\n"
     ]
    },
    {
     "name": "stdout",
     "output_type": "stream",
     "text": [
      "0.0003476052370388061\n"
     ]
    },
    {
     "name": "stderr",
     "output_type": "stream",
     "text": [
      "100%|██████████| 15/15 [00:00<00:00, 9541.18it/s]\n"
     ]
    },
    {
     "name": "stdout",
     "output_type": "stream",
     "text": [
      "5.013363261241466e-05\n"
     ]
    },
    {
     "name": "stderr",
     "output_type": "stream",
     "text": [
      "100%|██████████| 15/15 [00:00<00:00, 9670.24it/s]\n"
     ]
    },
    {
     "name": "stdout",
     "output_type": "stream",
     "text": [
      "6.286739335337188e-06\n"
     ]
    },
    {
     "name": "stderr",
     "output_type": "stream",
     "text": [
      "100%|██████████| 15/15 [00:00<00:00, 8090.86it/s]\n"
     ]
    },
    {
     "name": "stdout",
     "output_type": "stream",
     "text": [
      "6.681191280222265e-07\n"
     ]
    },
    {
     "name": "stderr",
     "output_type": "stream",
     "text": [
      "100%|██████████| 15/15 [00:00<00:00, 8761.25it/s]\n"
     ]
    },
    {
     "name": "stdout",
     "output_type": "stream",
     "text": [
      "5.8438690331286125e-08\n"
     ]
    },
    {
     "name": "stderr",
     "output_type": "stream",
     "text": [
      "100%|██████████| 15/15 [00:00<00:00, 8960.91it/s]\n"
     ]
    },
    {
     "name": "stdout",
     "output_type": "stream",
     "text": [
      "4.052477464711046e-09\n"
     ]
    },
    {
     "name": "stderr",
     "output_type": "stream",
     "text": [
      "100%|██████████| 15/15 [00:00<00:00, 8224.13it/s]\n"
     ]
    },
    {
     "name": "stdout",
     "output_type": "stream",
     "text": [
      "2.1239579539589215e-10\n"
     ]
    },
    {
     "name": "stderr",
     "output_type": "stream",
     "text": [
      "100%|██████████| 15/15 [00:00<00:00, 8949.44it/s]\n"
     ]
    },
    {
     "name": "stdout",
     "output_type": "stream",
     "text": [
      "7.851719274754032e-12\n"
     ]
    },
    {
     "name": "stderr",
     "output_type": "stream",
     "text": [
      "100%|██████████| 15/15 [00:00<00:00, 8841.28it/s]\n"
     ]
    },
    {
     "name": "stdout",
     "output_type": "stream",
     "text": [
      "1.8388879286478088e-13\n"
     ]
    },
    {
     "name": "stderr",
     "output_type": "stream",
     "text": [
      "100%|██████████| 15/15 [00:00<00:00, 8547.01it/s]\n"
     ]
    },
    {
     "name": "stdout",
     "output_type": "stream",
     "text": [
      "4.091290674301806e-12\n"
     ]
    },
    {
     "name": "stderr",
     "output_type": "stream",
     "text": [
      "100%|██████████| 15/15 [00:00<00:00, 9374.84it/s]\n"
     ]
    },
    {
     "name": "stdout",
     "output_type": "stream",
     "text": [
      "2.1966495289404975e-09\n"
     ]
    },
    {
     "name": "stderr",
     "output_type": "stream",
     "text": [
      "100%|██████████| 15/15 [00:00<00:00, 6744.70it/s]\n"
     ]
    },
    {
     "name": "stdout",
     "output_type": "stream",
     "text": [
      "3.6284239968153997e-07\n"
     ]
    },
    {
     "name": "stderr",
     "output_type": "stream",
     "text": [
      "100%|██████████| 15/15 [00:00<00:00, 7560.03it/s]\n"
     ]
    },
    {
     "name": "stdout",
     "output_type": "stream",
     "text": [
      "2.718036193982698e-05\n"
     ]
    },
    {
     "name": "stderr",
     "output_type": "stream",
     "text": [
      "100%|██████████| 15/15 [00:00<00:00, 8972.41it/s]\n"
     ]
    },
    {
     "name": "stdout",
     "output_type": "stream",
     "text": [
      "0.001142953522503376\n"
     ]
    },
    {
     "name": "stderr",
     "output_type": "stream",
     "text": [
      "100%|██████████| 15/15 [00:00<00:00, 9283.54it/s]\n"
     ]
    },
    {
     "name": "stdout",
     "output_type": "stream",
     "text": [
      "0.030924241989850998\n"
     ]
    },
    {
     "name": "stderr",
     "output_type": "stream",
     "text": [
      "100%|██████████| 15/15 [00:00<00:00, 9129.96it/s]"
     ]
    },
    {
     "name": "stdout",
     "output_type": "stream",
     "text": [
      "0.5908955931663513\n"
     ]
    },
    {
     "name": "stderr",
     "output_type": "stream",
     "text": [
      "\n"
     ]
    }
   ],
   "source": [
    "loss_vs_lr = dict()\n",
    "\n",
    "lr_list = np.linspace(0.1, 2.0, 20)\n",
    "\n",
    "for lr in lr_list:\n",
    "    loss_vs_lr[lr] = train(lr=lr, steps=15)[-1]\n",
    "    print(loss_vs_lr[lr])\n",
    "\n",
    "# log_losses = np.log([loss_vs_lr[lr] for lr in lr_list])\n",
    "# print (log_losses)"
   ]
  },
  {
   "cell_type": "code",
   "execution_count": 17,
   "id": "139c88e7-4106-4477-9a99-ad37ca4b814a",
   "metadata": {
    "id": "139c88e7-4106-4477-9a99-ad37ca4b814a"
   },
   "outputs": [
    {
     "data": {
      "text/plain": [
       "<matplotlib.legend.Legend at 0x13117bbf0>"
      ]
     },
     "execution_count": 17,
     "metadata": {},
     "output_type": "execute_result"
    },
    {
     "data": {
      "image/png": "[encoded data removed]",
      "text/plain": [
       "<Figure size 1000x600 with 1 Axes>"
      ]
     },
     "metadata": {},
     "output_type": "display_data"
    }
   ],
   "source": [
    "plt.figure(figsize=(10,6))\n",
    "for lr in lr_list:\n",
    "    plt.plot(lr_list, list(loss_vs_lr.values()), label=f\"lr = {lr}\")\n",
    "\n",
    "plt.yscale('log')\n",
    "plt.title(\"Training loss\")\n",
    "plt.legend(fontsize=6)\n",
    "\n",
    "# plt.plot(lr_list, log_losses, marker='o', linestyle='-', color='b')\n",
    "# plt.xlabel('Learning Rate (η)')\n",
    "# plt.ylabel('Log of Training Loss')\n",
    "# plt.title('Training Loss after 15 Steps vs Learning Rate')\n",
    "# plt.legend([f\"lr = {lr:.2f}\" for lr in lr_list])\n",
    "# plt.show()"
   ]
  },
  {
   "cell_type": "code",
   "execution_count": null,
   "id": "4eb5ee83-5f78-4e18-bf9f-b9401735a9e7",
   "metadata": {
    "id": "4eb5ee83-5f78-4e18-bf9f-b9401735a9e7"
   },
   "outputs": [],
   "source": []
  },
  {
   "cell_type": "code",
   "execution_count": null,
   "id": "79d50818-df80-409d-8a9b-ab5497b02bc5",
   "metadata": {
    "id": "79d50818-df80-409d-8a9b-ab5497b02bc5"
   },
   "outputs": [],
   "source": []
  },
  {
   "cell_type": "markdown",
   "id": "d629d6b9-43a4-434f-9067-308c65ef6d1a",
   "metadata": {
    "id": "d629d6b9-43a4-434f-9067-308c65ef6d1a"
   },
   "source": [
    "# Dataset 1"
   ]
  },
  {
   "cell_type": "code",
   "execution_count": 22,
   "id": "b25adef3-b3ed-458b-91e7-8f642990bfb0",
   "metadata": {
    "id": "b25adef3-b3ed-458b-91e7-8f642990bfb0"
   },
   "outputs": [
    {
     "name": "stdout",
     "output_type": "stream",
     "text": [
      "Largest:1.000000238418579， Smallest:0.010000001639127731\n"
     ]
    }
   ],
   "source": [
    "# load the data\n",
    "X_train = np.load('X_train_1.npy')\n",
    "y_train = np.load('y_train_1.npy')\n",
    "\n",
    "X_train = torch.FloatTensor(X_train)\n",
    "y_train = torch.FloatTensor(y_train).unsqueeze(1)\n",
    "\n",
    "X_transpose_X = np.dot(X_train.T, X_train)\n",
    "eigenvalues =  np.linalg.eigvals(X_transpose_X)\n",
    "largest_eigenvalue = np.max(eigenvalues)\n",
    "smallest_eigenvalue = np.min(eigenvalues)\n",
    "print(f'Largest:{largest_eigenvalue}， Smallest:{smallest_eigenvalue}')"
   ]
  },
  {
   "cell_type": "code",
   "execution_count": 24,
   "id": "a1b2b07e-f1e6-4954-b812-ab0a17fca8e8",
   "metadata": {
    "id": "a1b2b07e-f1e6-4954-b812-ab0a17fca8e8"
   },
   "outputs": [
    {
     "name": "stderr",
     "output_type": "stream",
     "text": [
      "100%|██████████| 600/600 [00:00<00:00, 10952.71it/s]\n"
     ]
    },
    {
     "name": "stdout",
     "output_type": "stream",
     "text": [
      "0.0065609971061348915\n"
     ]
    },
    {
     "name": "stderr",
     "output_type": "stream",
     "text": [
      "100%|██████████| 600/600 [00:00<00:00, 17520.19it/s]\n"
     ]
    },
    {
     "name": "stdout",
     "output_type": "stream",
     "text": [
      "0.001976531930267811\n"
     ]
    },
    {
     "name": "stderr",
     "output_type": "stream",
     "text": [
      "100%|██████████| 600/600 [00:00<00:00, 18502.51it/s]\n"
     ]
    },
    {
     "name": "stdout",
     "output_type": "stream",
     "text": [
      "0.0005947244935669005\n"
     ]
    },
    {
     "name": "stderr",
     "output_type": "stream",
     "text": [
      "100%|██████████| 600/600 [00:00<00:00, 18767.72it/s]\n"
     ]
    },
    {
     "name": "stdout",
     "output_type": "stream",
     "text": [
      "0.00017873270553536713\n"
     ]
    },
    {
     "name": "stderr",
     "output_type": "stream",
     "text": [
      "100%|██████████| 600/600 [00:00<00:00, 18765.34it/s]\n"
     ]
    },
    {
     "name": "stdout",
     "output_type": "stream",
     "text": [
      "5.364947355701588e-05\n"
     ]
    },
    {
     "name": "stderr",
     "output_type": "stream",
     "text": [
      "100%|██████████| 600/600 [00:00<00:00, 19041.50it/s]\n"
     ]
    },
    {
     "name": "stdout",
     "output_type": "stream",
     "text": [
      "1.608445745659992e-05\n"
     ]
    },
    {
     "name": "stderr",
     "output_type": "stream",
     "text": [
      "100%|██████████| 600/600 [00:00<00:00, 19198.24it/s]\n"
     ]
    },
    {
     "name": "stdout",
     "output_type": "stream",
     "text": [
      "4.8162769417103846e-06\n"
     ]
    },
    {
     "name": "stderr",
     "output_type": "stream",
     "text": [
      "100%|██████████| 600/600 [00:00<00:00, 18153.62it/s]\n"
     ]
    },
    {
     "name": "stdout",
     "output_type": "stream",
     "text": [
      "1.4404507737708627e-06\n"
     ]
    },
    {
     "name": "stderr",
     "output_type": "stream",
     "text": [
      "100%|██████████| 600/600 [00:00<00:00, 18949.60it/s]\n"
     ]
    },
    {
     "name": "stdout",
     "output_type": "stream",
     "text": [
      "4.3029530161220464e-07\n"
     ]
    },
    {
     "name": "stderr",
     "output_type": "stream",
     "text": [
      "100%|██████████| 600/600 [00:00<00:00, 18604.01it/s]\n"
     ]
    },
    {
     "name": "stdout",
     "output_type": "stream",
     "text": [
      "1.2837239182772464e-07\n"
     ]
    },
    {
     "name": "stderr",
     "output_type": "stream",
     "text": [
      "100%|██████████| 600/600 [00:00<00:00, 18471.69it/s]\n"
     ]
    },
    {
     "name": "stdout",
     "output_type": "stream",
     "text": [
      "3.825410033186927e-08\n"
     ]
    },
    {
     "name": "stderr",
     "output_type": "stream",
     "text": [
      "100%|██████████| 600/600 [00:00<00:00, 18207.21it/s]\n"
     ]
    },
    {
     "name": "stdout",
     "output_type": "stream",
     "text": [
      "1.1385410836339815e-08\n"
     ]
    },
    {
     "name": "stderr",
     "output_type": "stream",
     "text": [
      "100%|██████████| 600/600 [00:00<00:00, 18331.21it/s]\n"
     ]
    },
    {
     "name": "stdout",
     "output_type": "stream",
     "text": [
      "3.384084124036235e-09\n"
     ]
    },
    {
     "name": "stderr",
     "output_type": "stream",
     "text": [
      "100%|██████████| 600/600 [00:00<00:00, 18827.11it/s]\n"
     ]
    },
    {
     "name": "stdout",
     "output_type": "stream",
     "text": [
      "1.004484495581437e-09\n"
     ]
    },
    {
     "name": "stderr",
     "output_type": "stream",
     "text": [
      "100%|██████████| 600/600 [00:00<00:00, 18854.90it/s]\n"
     ]
    },
    {
     "name": "stdout",
     "output_type": "stream",
     "text": [
      "2.9810345858471976e-10\n"
     ]
    },
    {
     "name": "stderr",
     "output_type": "stream",
     "text": [
      "100%|██████████| 600/600 [00:00<00:00, 18848.83it/s]\n"
     ]
    },
    {
     "name": "stdout",
     "output_type": "stream",
     "text": [
      "8.808601070775524e-11\n"
     ]
    },
    {
     "name": "stderr",
     "output_type": "stream",
     "text": [
      "100%|██████████| 600/600 [00:00<00:00, 18578.60it/s]\n"
     ]
    },
    {
     "name": "stdout",
     "output_type": "stream",
     "text": [
      "2.6015356535680212e-11\n"
     ]
    },
    {
     "name": "stderr",
     "output_type": "stream",
     "text": [
      "100%|██████████| 600/600 [00:00<00:00, 18754.01it/s]\n"
     ]
    },
    {
     "name": "stdout",
     "output_type": "stream",
     "text": [
      "7.697945579587806e-12\n"
     ]
    },
    {
     "name": "stderr",
     "output_type": "stream",
     "text": [
      "100%|██████████| 600/600 [00:00<00:00, 18815.85it/s]\n"
     ]
    },
    {
     "name": "stdout",
     "output_type": "stream",
     "text": [
      "2.284598074955846e-12\n"
     ]
    },
    {
     "name": "stderr",
     "output_type": "stream",
     "text": [
      "100%|██████████| 600/600 [00:00<00:00, 18702.58it/s]"
     ]
    },
    {
     "name": "stdout",
     "output_type": "stream",
     "text": [
      "0.5908854007720947\n"
     ]
    },
    {
     "name": "stderr",
     "output_type": "stream",
     "text": [
      "\n"
     ]
    }
   ],
   "source": [
    "loss_vs_lr = dict()\n",
    "\n",
    "lr_list = np.linspace(0.1, 2.0, 20)\n",
    "\n",
    "for lr in lr_list:\n",
    "    loss_vs_lr[lr] = train(lr=lr, steps=600)[-1]\n",
    "    print(loss_vs_lr[lr])"
   ]
  },
  {
   "cell_type": "code",
   "execution_count": 26,
   "id": "be87eb8d-c694-4a17-8746-5d9340050a1e",
   "metadata": {
    "id": "be87eb8d-c694-4a17-8746-5d9340050a1e"
   },
   "outputs": [
    {
     "data": {
      "text/plain": [
       "Text(0.5, 1.0, 'Training loss')"
      ]
     },
     "execution_count": 26,
     "metadata": {},
     "output_type": "execute_result"
    },
    {
     "data": {
      "image/png": "[encoded data removed]",
      "text/plain": [
       "<Figure size 1000x600 with 1 Axes>"
      ]
     },
     "metadata": {},
     "output_type": "display_data"
    }
   ],
   "source": [
    "plt.figure(figsize=(10,6))\n",
    "for lr in lr_list:\n",
    "    plt.plot(lr_list, list(loss_vs_lr.values()), label=f\"lr = {lr}\")\n",
    "\n",
    "plt.yscale('log')\n",
    "plt.title(\"Training loss\")"
   ]
  },
  {
   "cell_type": "code",
   "execution_count": null,
   "id": "c90b8b77-42a7-4701-998f-32cab092a91c",
   "metadata": {
    "id": "c90b8b77-42a7-4701-998f-32cab092a91c"
   },
   "outputs": [],
   "source": []
  },
  {
   "cell_type": "code",
   "execution_count": null,
   "id": "aac3bc8c-1457-4f97-8597-a8cff8f08454",
   "metadata": {
    "id": "aac3bc8c-1457-4f97-8597-a8cff8f08454"
   },
   "outputs": [],
   "source": []
  }
 ],
 "metadata": {
  "colab": {
   "provenance": []
  },
  "kernelspec": {
   "display_name": "Python 3 (ipykernel)",
   "language": "python",
   "name": "python3"
  },
  "language_info": {
   "codemirror_mode": {
    "name": "ipython",
    "version": 3
   },
   "file_extension": ".py",
   "mimetype": "text/x-python",
   "name": "python",
   "nbconvert_exporter": "python",
   "pygments_lexer": "ipython3",
   "version": "3.12.4"
  }
 },
 "nbformat": 4,
 "nbformat_minor": 5
}
